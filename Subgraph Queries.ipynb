{
 "cells": [
  {
   "cell_type": "code",
   "execution_count": 18,
   "id": "f9607aa4",
   "metadata": {},
   "outputs": [],
   "source": [
    "import requests\n",
    "import pandas as pd\n",
    "\n",
    "pd.set_option('display.max_columns', None)\n",
    "pd.set_option('display.max_rows', 100)"
   ]
  },
  {
   "cell_type": "markdown",
   "id": "6e9bbb7d",
   "metadata": {
    "heading_collapsed": true
   },
   "source": [
    "# For normal"
   ]
  },
  {
   "cell_type": "code",
   "execution_count": 3,
   "id": "a9500ddf",
   "metadata": {
    "hidden": true
   },
   "outputs": [],
   "source": [
    "from gql import gql, Client\n",
    "from gql.transport.aiohttp import AIOHTTPTransport\n",
    "\n",
    "# Select your transport with a defined url endpoint\n",
    "transport = AIOHTTPTransport(url=\"https://countries.trevorblades.com/\")\n",
    "\n",
    "# Create a GraphQL client using the defined transport\n",
    "client = Client(transport=transport, fetch_schema_from_transport=True)\n",
    "\n",
    "# Provide a GraphQL query\n",
    "\n",
    "\n",
    "# Execute the query on the transport\n",
    "# result = client.execute(query)\n",
    "# print(result)\n"
   ]
  },
  {
   "cell_type": "markdown",
   "id": "849197d5",
   "metadata": {},
   "source": [
    "# Async for ipython"
   ]
  },
  {
   "cell_type": "code",
   "execution_count": 4,
   "id": "79aff7df",
   "metadata": {},
   "outputs": [],
   "source": [
    "import asyncio\n",
    "\n",
    "from gql import Client, gql\n",
    "from gql.transport.aiohttp import AIOHTTPTransport\n",
    "\n",
    "transport = AIOHTTPTransport(url=\"https://api.thegraph.com/subgraphs/name/connext/nxtp-matic\")"
   ]
  },
  {
   "cell_type": "markdown",
   "id": "140539c9",
   "metadata": {},
   "source": [
    "## Graph Queries"
   ]
  },
  {
   "cell_type": "markdown",
   "id": "7fcd82ee",
   "metadata": {
    "heading_collapsed": true,
    "jp-MarkdownHeadingCollapsed": true,
    "tags": []
   },
   "source": [
    "### Transactions from User"
   ]
  },
  {
   "cell_type": "code",
   "execution_count": 5,
   "id": "ebeceb60",
   "metadata": {
    "code_folding": [
     7
    ],
    "hidden": true
   },
   "outputs": [],
   "source": [
    "query = gql(\n",
    "    \"\"\"\n",
    "query GetSenderTransactions($userId: String!, $sendingChainId: BigInt!, $status: TransactionStatus) {\n",
    "  transactions(\n",
    "    where: {user: $userId, status: $status, sendingChainId: $sendingChainId}\n",
    "    orderBy: preparedBlockNumber\n",
    "    orderDirection: desc\n",
    "  ) {\n",
    "    id\n",
    "    status\n",
    "    chainId\n",
    "    preparedTimestamp\n",
    "    user {\n",
    "      id\n",
    "    }\n",
    "    router {\n",
    "      id\n",
    "    }\n",
    "    receivingChainTxManagerAddress\n",
    "    sendingAssetId\n",
    "    receivingAssetId\n",
    "    sendingChainFallback\n",
    "    receivingAddress\n",
    "    callTo\n",
    "    sendingChainId\n",
    "    receivingChainId\n",
    "    callDataHash\n",
    "    transactionId\n",
    "    amount\n",
    "    expiry\n",
    "    preparedBlockNumber\n",
    "    bidSignature\n",
    "    prepareCaller\n",
    "    fulfillCaller\n",
    "    cancelCaller\n",
    "    prepareTransactionHash\n",
    "    fulfillTransactionHash\n",
    "    cancelTransactionHash\n",
    "  }\n",
    "}\n",
    "\"\"\"\n",
    ")\n",
    "\n",
    "params = {\n",
    "        \"sendingChainId\": 137,\n",
    "        \"userId\": \"0x4752a32843b661fedc525c979aaa01fa54d31366\",\n",
    "        \"status\": \"Fulfilled\"\n",
    "    }"
   ]
  },
  {
   "cell_type": "code",
   "execution_count": 6,
   "id": "e881c99f",
   "metadata": {
    "code_folding": [
     7
    ],
    "hidden": true,
    "scrolled": true
   },
   "outputs": [],
   "source": [
    "query = gql(\n",
    "    \"\"\"\n",
    "query fetchAllTransactions($batch: Int!) {\n",
    "  transactions (\n",
    "    first:100, skip: $batch,\n",
    "    orderBy: preparedBlockNumber\n",
    "    orderDirection: asc\n",
    "  ){\n",
    "    id\n",
    "    status\n",
    "    chainId\n",
    "    preparedTimestamp\n",
    "    user {\n",
    "      id\n",
    "    }\n",
    "    router {\n",
    "      id\n",
    "    }\n",
    "    receivingChainTxManagerAddress\n",
    "    sendingAssetId\n",
    "    receivingAssetId\n",
    "    sendingChainFallback\n",
    "    receivingAddress\n",
    "    callTo\n",
    "    sendingChainId\n",
    "    receivingChainId\n",
    "    callDataHash\n",
    "    transactionId\n",
    "    amount\n",
    "    expiry\n",
    "    preparedBlockNumber\n",
    "    bidSignature\n",
    "    prepareCaller\n",
    "    fulfillCaller\n",
    "    cancelCaller\n",
    "    prepareTransactionHash\n",
    "    fulfillTransactionHash\n",
    "    cancelTransactionHash\n",
    "  }\n",
    "}\n",
    "\"\"\"\n",
    ")\n",
    "\n",
    "params = {\n",
    "        \"batch\": 0\n",
    "    }"
   ]
  },
  {
   "cell_type": "markdown",
   "id": "77e1bfa4",
   "metadata": {},
   "source": [
    "## Querying"
   ]
  },
  {
   "cell_type": "code",
   "execution_count": 7,
   "id": "f2244f38",
   "metadata": {},
   "outputs": [],
   "source": [
    "txn_columns = ['amount', 'bidSignature', 'callDataHash', 'callTo', 'cancelCaller', 'cancelTransactionHash', 'chainId', 'expiry', 'fulfillCaller', 'fulfillTransactionHash', 'id', 'prepareCaller', 'prepareTransactionHash', 'preparedBlockNumber', 'preparedTimestamp', 'receivingAddress', 'receivingAssetId', 'receivingChainId', 'receivingChainTxManagerAddress', 'router', 'sendingAssetId', 'sendingChainFallback', 'sendingChainId', 'status', 'transactionId', 'user']\n",
    "\n",
    "matic_txns = pd.DataFrame(columns=txn_columns)\n",
    "transport_matic = AIOHTTPTransport(url=\"https://api.thegraph.com/subgraphs/name/connext/nxtp-matic\")\n",
    "\n",
    "bsc_txns = pd.DataFrame(columns=txn_columns)\n",
    "transport_bsc = AIOHTTPTransport(url=\"https://api.thegraph.com/subgraphs/name/connext/nxtp-bsc\")\n",
    "\n",
    "xdai_txns = pd.DataFrame(columns=txn_columns)\n",
    "transport_xdai = AIOHTTPTransport(url=\"https://api.thegraph.com/subgraphs/name/connext/nxtp-xdai\")\n",
    "\n",
    "fantom_txns = pd.DataFrame(columns=txn_columns)\n",
    "transport_fantom = AIOHTTPTransport(url=\"https://api.thegraph.com/subgraphs/name/connext/nxtp-fantom\")"
   ]
  },
  {
   "cell_type": "code",
   "execution_count": 8,
   "id": "e7243957",
   "metadata": {},
   "outputs": [],
   "source": [
    "async def graph_query(query, params, transport, transactions):\n",
    "\n",
    "    # Using `async with` on the client will start a connection on the transport\n",
    "    # and provide a `session` variable to execute queries on this connection\n",
    "    async with Client(\n",
    "        transport=transport, fetch_schema_from_transport=True,\n",
    "    ) as session:\n",
    "\n",
    "        # Execute single query\n",
    "        for batch in range(51):\n",
    "            result = await session.execute(query, variable_values=params)\n",
    "            for tr in result[\"transactions\"]:\n",
    "                list_values = list(tr.values())\n",
    "                list_values[19] = list_values[19][\"id\"]\n",
    "                list_values[25] = list_values[25][\"id\"]\n",
    "                transactions.loc[len(transactions.index)] = list_values\n",
    "            if len(result[\"transactions\"]) < 100:\n",
    "                break\n",
    "            params['batch']+=100\n",
    "            print(params[\"batch\"], end=\"-\")\n",
    "        print(\"\")\n",
    "        return result"
   ]
  },
  {
   "cell_type": "code",
   "execution_count": 9,
   "id": "8c12bb81",
   "metadata": {},
   "outputs": [
    {
     "name": "stdout",
     "output_type": "stream",
     "text": [
      "100-200-300-400-500-600-700-800-900-1000-1100-1200-1300-1400-1500-1600-1700-1800-1900-2000-2100-2200-2300-2400-2500-2600-2700-2800-2900-3000-3100-3200-3300-3400-3500-3600-3700-3800-3900-4000-4100-4200-4300-4400-4500-4600-\n",
      "100-200-300-400-500-600-700-800-900-1000-1100-1200-1300-1400-1500-1600-1700-1800-1900-2000-2100-2200-2300-2400-2500-2600-2700-2800-2900-3000-3100-3200-3300-3400-3500-3600-\n",
      "100-200-300-400-500-600-\n",
      "100-200-300-400-500-600-700-800-900-1000-1100-1200-1300-\n"
     ]
    }
   ],
   "source": [
    "params[\"batch\"] = 0\n",
    "await graph_query(query, params, transport_matic, matic_txns)\n",
    "params[\"batch\"] = 0\n",
    "await graph_query(query, params, transport_bsc, bsc_txns)\n",
    "params[\"batch\"] = 0\n",
    "await graph_query(query, params, transport_xdai, xdai_txns)\n",
    "params[\"batch\"] = 0\n",
    "await graph_query(query, params, transport_fantom, fantom_txns)\n",
    "params[\"batch\"] = 0"
   ]
  },
  {
   "cell_type": "code",
   "execution_count": 21,
   "id": "dc59e6eb",
   "metadata": {
    "scrolled": true
   },
   "outputs": [
    {
     "data": {
      "text/plain": [
       "(3156, 26)"
      ]
     },
     "execution_count": 21,
     "metadata": {},
     "output_type": "execute_result"
    }
   ],
   "source": [
    "matic_txns[matic_txns.sendingChainId==\"137\"].shape"
   ]
  },
  {
   "cell_type": "code",
   "execution_count": 25,
   "id": "f9d9c851",
   "metadata": {},
   "outputs": [
    {
     "data": {
      "text/plain": [
       "(1336, 26)"
      ]
     },
     "execution_count": 25,
     "metadata": {},
     "output_type": "execute_result"
    }
   ],
   "source": [
    "bsc_txns[bsc_txns.sendingChainId==\"56\"].shape"
   ]
  },
  {
   "cell_type": "code",
   "execution_count": 26,
   "id": "ad0e76c0",
   "metadata": {
    "scrolled": true
   },
   "outputs": [
    {
     "data": {
      "text/plain": [
       "(325, 26)"
      ]
     },
     "execution_count": 26,
     "metadata": {},
     "output_type": "execute_result"
    }
   ],
   "source": [
    "xdai_txns[xdai_txns.sendingChainId==\"100\"].shape"
   ]
  },
  {
   "cell_type": "code",
   "execution_count": 27,
   "id": "0e25a5c2",
   "metadata": {},
   "outputs": [
    {
     "data": {
      "text/plain": [
       "(334, 26)"
      ]
     },
     "execution_count": 27,
     "metadata": {},
     "output_type": "execute_result"
    }
   ],
   "source": [
    "fantom_txns[fantom_txns.sendingChainId==\"250\"].shape"
   ]
  },
  {
   "cell_type": "code",
   "execution_count": 28,
   "id": "9eed85e7",
   "metadata": {},
   "outputs": [
    {
     "data": {
      "text/plain": [
       "5151"
      ]
     },
     "execution_count": 28,
     "metadata": {},
     "output_type": "execute_result"
    }
   ],
   "source": [
    "3156+1336+325+334"
   ]
  },
  {
   "cell_type": "markdown",
   "id": "97e6bba3",
   "metadata": {},
   "source": [
    "## from and to chains"
   ]
  },
  {
   "cell_type": "markdown",
   "id": "124bb9d0",
   "metadata": {},
   "source": [
    "BSC : 56\n",
    "<br>\n",
    "xDai : 100\n",
    "<br>\n",
    "Polygon : 137\n",
    "<br>\n",
    "Fantom : 250\n",
    "<br>"
   ]
  },
  {
   "cell_type": "code",
   "execution_count": null,
   "id": "9aa714a6",
   "metadata": {},
   "outputs": [],
   "source": [
    "result = pd.concat([matic_txns,bsc_txns,xdai_txns,fantom_txns])"
   ]
  },
  {
   "cell_type": "code",
   "execution_count": 39,
   "id": "79c1c219",
   "metadata": {
    "scrolled": true
   },
   "outputs": [
    {
     "data": {
      "text/plain": [
       "0x9381aff046755229b398c5be1d4fab64d628d008    49\n",
       "0x7a12f8072667a18092e90fc6485d468caaa2179f    26\n",
       "0x68b7d230072090924bb254650cf9df3dc1089745    23\n",
       "0x56c9656662fad432973e8743e1f6d2a79df61a35    22\n",
       "0x34a500632be5498a463fadf5be7258c1cf7bf52b    20\n",
       "                                              ..\n",
       "0x614ee992a7db0dd1eea121f32f1cc8387ddc7fd5     1\n",
       "0xf1d918c34c71fc121e05c53e934d431af3ce4252     1\n",
       "0x7cbcc70f5176e54d72476b8a60e35fe7ebaff113     1\n",
       "0xdc9cdd31bc0f598e6b2c8302312b40852f636e60     1\n",
       "0x11c641a959e703f3130a7b70a33a0fec814ff486     1\n",
       "Name: receivingAddress, Length: 2772, dtype: int64"
      ]
     },
     "execution_count": 39,
     "metadata": {},
     "output_type": "execute_result"
    }
   ],
   "source": [
    "matic_txns[\"receivingAddress\"].value_counts()"
   ]
  },
  {
   "cell_type": "code",
   "execution_count": 41,
   "id": "fe9724a9",
   "metadata": {
    "scrolled": true
   },
   "outputs": [
    {
     "data": {
      "text/html": [
       "<div>\n",
       "<style scoped>\n",
       "    .dataframe tbody tr th:only-of-type {\n",
       "        vertical-align: middle;\n",
       "    }\n",
       "\n",
       "    .dataframe tbody tr th {\n",
       "        vertical-align: top;\n",
       "    }\n",
       "\n",
       "    .dataframe thead th {\n",
       "        text-align: right;\n",
       "    }\n",
       "</style>\n",
       "<table border=\"1\" class=\"dataframe\">\n",
       "  <thead>\n",
       "    <tr style=\"text-align: right;\">\n",
       "      <th></th>\n",
       "      <th>amount</th>\n",
       "      <th>bidSignature</th>\n",
       "      <th>callDataHash</th>\n",
       "      <th>callTo</th>\n",
       "      <th>cancelCaller</th>\n",
       "      <th>cancelTransactionHash</th>\n",
       "      <th>chainId</th>\n",
       "      <th>expiry</th>\n",
       "      <th>fulfillCaller</th>\n",
       "      <th>fulfillTransactionHash</th>\n",
       "      <th>id</th>\n",
       "      <th>prepareCaller</th>\n",
       "      <th>prepareTransactionHash</th>\n",
       "      <th>preparedBlockNumber</th>\n",
       "      <th>preparedTimestamp</th>\n",
       "      <th>receivingAddress</th>\n",
       "      <th>receivingAssetId</th>\n",
       "      <th>receivingChainId</th>\n",
       "      <th>receivingChainTxManagerAddress</th>\n",
       "      <th>router</th>\n",
       "      <th>sendingAssetId</th>\n",
       "      <th>sendingChainFallback</th>\n",
       "      <th>sendingChainId</th>\n",
       "      <th>status</th>\n",
       "      <th>transactionId</th>\n",
       "      <th>user</th>\n",
       "    </tr>\n",
       "  </thead>\n",
       "  <tbody>\n",
       "    <tr>\n",
       "      <th>3029</th>\n",
       "      <td>200000000000000000</td>\n",
       "      <td>0x7c2a8087577e476fed214ec6c76179f6ff803847d436...</td>\n",
       "      <td>0xc5d2460186f7233c927e7db2dcc703c0e500b653ca82...</td>\n",
       "      <td>0x0000000000000000000000000000000000000000</td>\n",
       "      <td>None</td>\n",
       "      <td>None</td>\n",
       "      <td>137</td>\n",
       "      <td>1631189000</td>\n",
       "      <td>0xe1dd7b28ab085978ead65aff92b22b6322a96422</td>\n",
       "      <td>0xb1c8c92a707d7e3229487282bb90a676104533bb4e83...</td>\n",
       "      <td>0x144c7d9570851fc0c053150125079edd156a6b4ea53f...</td>\n",
       "      <td>0x4752a32843b661fedc525c979aaa01fa54d31366</td>\n",
       "      <td>0x64f1e20b58adffee60a52cc113aec275427f5ced7d30...</td>\n",
       "      <td>18809304</td>\n",
       "      <td>1630931002</td>\n",
       "      <td>0x4752a32843b661fedc525c979aaa01fa54d31366</td>\n",
       "      <td>0x0000000000000000000000000000000000000000</td>\n",
       "      <td>100</td>\n",
       "      <td>0x31efc4aeaa7c39e54a33fdc3c46ee2bd70ae0a09</td>\n",
       "      <td>0xe1dd7b28ab085978ead65aff92b22b6322a96422</td>\n",
       "      <td>0x8f3cf7ad23cd3cadbd9735aff958023239c6a063</td>\n",
       "      <td>0x4752a32843b661fedc525c979aaa01fa54d31366</td>\n",
       "      <td>137</td>\n",
       "      <td>Fulfilled</td>\n",
       "      <td>0x144c7d9570851fc0c053150125079edd156a6b4ea53f...</td>\n",
       "      <td>0x4752a32843b661fedc525c979aaa01fa54d31366</td>\n",
       "    </tr>\n",
       "    <tr>\n",
       "      <th>3088</th>\n",
       "      <td>200000000000000000</td>\n",
       "      <td>0x3986b12bda7f56909a130f5c677fc57f4e9a08c813c7...</td>\n",
       "      <td>0xc5d2460186f7233c927e7db2dcc703c0e500b653ca82...</td>\n",
       "      <td>0x0000000000000000000000000000000000000000</td>\n",
       "      <td>None</td>\n",
       "      <td>None</td>\n",
       "      <td>137</td>\n",
       "      <td>1631193933</td>\n",
       "      <td>0xe1dd7b28ab085978ead65aff92b22b6322a96422</td>\n",
       "      <td>0x8ca1a4e9d48b3b6d1b49dc411d303741b13512cc62ac...</td>\n",
       "      <td>0x099f2f7b4800eaa392dd017cee8145968b983e6ad712...</td>\n",
       "      <td>0x4752a32843b661fedc525c979aaa01fa54d31366</td>\n",
       "      <td>0xb7825ea3b34f8923eb9252dbcd16952e2580797fe671...</td>\n",
       "      <td>18811078</td>\n",
       "      <td>1630934800</td>\n",
       "      <td>0x4752a32843b661fedc525c979aaa01fa54d31366</td>\n",
       "      <td>0x0000000000000000000000000000000000000000</td>\n",
       "      <td>100</td>\n",
       "      <td>0x31efc4aeaa7c39e54a33fdc3c46ee2bd70ae0a09</td>\n",
       "      <td>0xe1dd7b28ab085978ead65aff92b22b6322a96422</td>\n",
       "      <td>0x8f3cf7ad23cd3cadbd9735aff958023239c6a063</td>\n",
       "      <td>0x4752a32843b661fedc525c979aaa01fa54d31366</td>\n",
       "      <td>137</td>\n",
       "      <td>Fulfilled</td>\n",
       "      <td>0x099f2f7b4800eaa392dd017cee8145968b983e6ad712...</td>\n",
       "      <td>0x4752a32843b661fedc525c979aaa01fa54d31366</td>\n",
       "    </tr>\n",
       "  </tbody>\n",
       "</table>\n",
       "</div>"
      ],
      "text/plain": [
       "                  amount                                       bidSignature  \\\n",
       "3029  200000000000000000  0x7c2a8087577e476fed214ec6c76179f6ff803847d436...   \n",
       "3088  200000000000000000  0x3986b12bda7f56909a130f5c677fc57f4e9a08c813c7...   \n",
       "\n",
       "                                           callDataHash  \\\n",
       "3029  0xc5d2460186f7233c927e7db2dcc703c0e500b653ca82...   \n",
       "3088  0xc5d2460186f7233c927e7db2dcc703c0e500b653ca82...   \n",
       "\n",
       "                                          callTo cancelCaller  \\\n",
       "3029  0x0000000000000000000000000000000000000000         None   \n",
       "3088  0x0000000000000000000000000000000000000000         None   \n",
       "\n",
       "     cancelTransactionHash chainId      expiry  \\\n",
       "3029                  None     137  1631189000   \n",
       "3088                  None     137  1631193933   \n",
       "\n",
       "                                   fulfillCaller  \\\n",
       "3029  0xe1dd7b28ab085978ead65aff92b22b6322a96422   \n",
       "3088  0xe1dd7b28ab085978ead65aff92b22b6322a96422   \n",
       "\n",
       "                                 fulfillTransactionHash  \\\n",
       "3029  0xb1c8c92a707d7e3229487282bb90a676104533bb4e83...   \n",
       "3088  0x8ca1a4e9d48b3b6d1b49dc411d303741b13512cc62ac...   \n",
       "\n",
       "                                                     id  \\\n",
       "3029  0x144c7d9570851fc0c053150125079edd156a6b4ea53f...   \n",
       "3088  0x099f2f7b4800eaa392dd017cee8145968b983e6ad712...   \n",
       "\n",
       "                                   prepareCaller  \\\n",
       "3029  0x4752a32843b661fedc525c979aaa01fa54d31366   \n",
       "3088  0x4752a32843b661fedc525c979aaa01fa54d31366   \n",
       "\n",
       "                                 prepareTransactionHash preparedBlockNumber  \\\n",
       "3029  0x64f1e20b58adffee60a52cc113aec275427f5ced7d30...            18809304   \n",
       "3088  0xb7825ea3b34f8923eb9252dbcd16952e2580797fe671...            18811078   \n",
       "\n",
       "     preparedTimestamp                            receivingAddress  \\\n",
       "3029        1630931002  0x4752a32843b661fedc525c979aaa01fa54d31366   \n",
       "3088        1630934800  0x4752a32843b661fedc525c979aaa01fa54d31366   \n",
       "\n",
       "                                receivingAssetId receivingChainId  \\\n",
       "3029  0x0000000000000000000000000000000000000000              100   \n",
       "3088  0x0000000000000000000000000000000000000000              100   \n",
       "\n",
       "                  receivingChainTxManagerAddress  \\\n",
       "3029  0x31efc4aeaa7c39e54a33fdc3c46ee2bd70ae0a09   \n",
       "3088  0x31efc4aeaa7c39e54a33fdc3c46ee2bd70ae0a09   \n",
       "\n",
       "                                          router  \\\n",
       "3029  0xe1dd7b28ab085978ead65aff92b22b6322a96422   \n",
       "3088  0xe1dd7b28ab085978ead65aff92b22b6322a96422   \n",
       "\n",
       "                                  sendingAssetId  \\\n",
       "3029  0x8f3cf7ad23cd3cadbd9735aff958023239c6a063   \n",
       "3088  0x8f3cf7ad23cd3cadbd9735aff958023239c6a063   \n",
       "\n",
       "                            sendingChainFallback sendingChainId     status  \\\n",
       "3029  0x4752a32843b661fedc525c979aaa01fa54d31366            137  Fulfilled   \n",
       "3088  0x4752a32843b661fedc525c979aaa01fa54d31366            137  Fulfilled   \n",
       "\n",
       "                                          transactionId  \\\n",
       "3029  0x144c7d9570851fc0c053150125079edd156a6b4ea53f...   \n",
       "3088  0x099f2f7b4800eaa392dd017cee8145968b983e6ad712...   \n",
       "\n",
       "                                            user  \n",
       "3029  0x4752a32843b661fedc525c979aaa01fa54d31366  \n",
       "3088  0x4752a32843b661fedc525c979aaa01fa54d31366  "
      ]
     },
     "execution_count": 41,
     "metadata": {},
     "output_type": "execute_result"
    }
   ],
   "source": [
    "matic_txns[matic_txns[\"receivingAddress\"] == \"0x4752a32843b661fedc525c979aaa01fa54d31366\"]"
   ]
  },
  {
   "cell_type": "code",
   "execution_count": 42,
   "id": "b155c560",
   "metadata": {
    "scrolled": true
   },
   "outputs": [
    {
     "data": {
      "text/plain": [
       "0x8ac76a51cc950d9822d68b83fe1ad97b32cd580d    1226\n",
       "0x55d398326f99059ff775485246999027b3197955     754\n",
       "0x2791bca1f2de4661ed88a30c99a7a9449aa84174     730\n",
       "0xc2132d05d31c914a87c6611c10748aeb04b58e8f     497\n",
       "0x04068da6c83afcfa0e13ba15a6696662335d5b75     454\n",
       "0x8f3cf7ad23cd3cadbd9735aff958023239c6a063     242\n",
       "0x8d11ec38a3eb5e956b052f67da8bdc9bef8abf3e     186\n",
       "0x1af3f329e8be154074d8769d1ffa4ee058b1dbc3     180\n",
       "0x0000000000000000000000000000000000000000     150\n",
       "0x049d68029688eabf473097a2fc38ef61633a3c7a     105\n",
       "0xddafbb505ad214d7b80b1f830fccc89b60fb7a83      79\n",
       "0x4ecaba5870353805a9f068101a40e0f32ed605c6      22\n",
       "Name: receivingAssetId, dtype: int64"
      ]
     },
     "execution_count": 42,
     "metadata": {},
     "output_type": "execute_result"
    }
   ],
   "source": [
    "matic_txns[\"receivingAssetId\"].value_counts()"
   ]
  },
  {
   "cell_type": "code",
   "execution_count": 43,
   "id": "e1b3618d",
   "metadata": {},
   "outputs": [],
   "source": [
    "chain_mapping = {\"56\": \"BSC\", \"137\": \"Polygon\", \"250\": \"Fantom\", \"100\": \"xDai\"}"
   ]
  },
  {
   "cell_type": "code",
   "execution_count": 44,
   "id": "294cffe4",
   "metadata": {},
   "outputs": [],
   "source": [
    "def transacting_chains(row):\n",
    "    val = chain_mapping[row[\"sendingChainId\"]] + \" -> \" + chain_mapping[row[\"receivingChainId\"]]\n",
    "    return val"
   ]
  },
  {
   "cell_type": "code",
   "execution_count": 47,
   "id": "e7662581",
   "metadata": {},
   "outputs": [
    {
     "data": {
      "text/plain": [
       "Polygon -> BSC       2160\n",
       "BSC -> Polygon       1073\n",
       "Polygon -> Fantom     745\n",
       "Polygon -> xDai       251\n",
       "xDai -> Polygon       209\n",
       "Fantom -> Polygon     187\n",
       "Name: asset_movement, dtype: int64"
      ]
     },
     "execution_count": 47,
     "metadata": {},
     "output_type": "execute_result"
    }
   ],
   "source": [
    "matic_txns['asset_movement'] = matic_txns.apply(transacting_chains, axis=1)\n",
    "\n",
    "matic_txns['asset_movement'].value_counts()"
   ]
  },
  {
   "cell_type": "code",
   "execution_count": 49,
   "id": "869ea515",
   "metadata": {
    "scrolled": true
   },
   "outputs": [
    {
     "data": {
      "text/plain": [
       "Polygon -> BSC       2160\n",
       "BSC -> Polygon       1073\n",
       "Polygon -> Fantom     745\n",
       "Polygon -> xDai       251\n",
       "xDai -> Polygon       209\n",
       "Fantom -> Polygon     187\n",
       "Name: asset_movement, dtype: int64"
      ]
     },
     "execution_count": 49,
     "metadata": {},
     "output_type": "execute_result"
    }
   ],
   "source": [
    "matic_txns['asset_movement'] = matic_txns.apply(transacting_chains, axis=1)\n",
    "matic_txns['asset_movement'].value_counts()"
   ]
  },
  {
   "cell_type": "code",
   "execution_count": 50,
   "id": "875d2c61",
   "metadata": {
    "scrolled": true
   },
   "outputs": [
    {
     "data": {
      "text/plain": [
       "BSC -> Polygon       122\n",
       "Polygon -> Fantom     21\n",
       "Fantom -> Polygon     12\n",
       "Name: asset_movement, dtype: int64"
      ]
     },
     "execution_count": 50,
     "metadata": {},
     "output_type": "execute_result"
    }
   ],
   "source": [
    "matic_txns[matic_txns[\"status\"]==\"Prepared\"]['asset_movement'].value_counts()"
   ]
  },
  {
   "cell_type": "code",
   "execution_count": 48,
   "id": "247b51e8",
   "metadata": {
    "scrolled": true
   },
   "outputs": [
    {
     "data": {
      "text/plain": [
       "Polygon -> BSC    2124\n",
       "BSC -> Polygon    1076\n",
       "BSC -> Fantom      213\n",
       "Fantom -> BSC      113\n",
       "xDai -> BSC         55\n",
       "BSC -> xDai         47\n",
       "Name: asset_movement, dtype: int64"
      ]
     },
     "execution_count": 48,
     "metadata": {},
     "output_type": "execute_result"
    }
   ],
   "source": [
    "bsc_txns['asset_movement'] = bsc_txns.apply(transacting_chains, axis=1)\n",
    "\n",
    "bsc_txns['asset_movement'].value_counts()"
   ]
  },
  {
   "cell_type": "code",
   "execution_count": null,
   "id": "b8906538",
   "metadata": {},
   "outputs": [],
   "source": []
  }
 ],
 "metadata": {
  "kernelspec": {
   "display_name": "Python 3",
   "language": "python",
   "name": "python3"
  },
  "language_info": {
   "codemirror_mode": {
    "name": "ipython",
    "version": 3
   },
   "file_extension": ".py",
   "mimetype": "text/x-python",
   "name": "python",
   "nbconvert_exporter": "python",
   "pygments_lexer": "ipython3",
   "version": "3.7.10"
  }
 },
 "nbformat": 4,
 "nbformat_minor": 5
}
